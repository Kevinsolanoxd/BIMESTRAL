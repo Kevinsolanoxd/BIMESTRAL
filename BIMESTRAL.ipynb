{
  "nbformat": 4,
  "nbformat_minor": 0,
  "metadata": {
    "colab": {
      "provenance": [],
      "toc_visible": true,
      "authorship_tag": "ABX9TyM5KPegd1dX6LhiRasDniWW",
      "include_colab_link": true
    },
    "kernelspec": {
      "name": "python3",
      "display_name": "Python 3"
    },
    "language_info": {
      "name": "python"
    }
  },
  "cells": [
    {
      "cell_type": "markdown",
      "metadata": {
        "id": "view-in-github",
        "colab_type": "text"
      },
      "source": [
        "<a href=\"https://colab.research.google.com/github/Kevinsolanoxd/BIMESTRAL/blob/main/BIMESTRAL.ipynb\" target=\"_parent\"><img src=\"https://colab.research.google.com/assets/colab-badge.svg\" alt=\"Open In Colab\"/></a>"
      ]
    },
    {
      "cell_type": "markdown",
      "source": [
        "# BIMESTRAL\n",
        "\n",
        "## Lineal"
      ],
      "metadata": {
        "id": "2MJei03huRxT"
      }
    },
    {
      "cell_type": "code",
      "execution_count": 1,
      "metadata": {
        "colab": {
          "base_uri": "https://localhost:8080/",
          "height": 265
        },
        "id": "UMJJlK87tm-L",
        "outputId": "51d76c65-eb01-4eb5-b5a1-43538dbad24c"
      },
      "outputs": [
        {
          "output_type": "display_data",
          "data": {
            "text/plain": [
              "<Figure size 432x288 with 1 Axes>"
            ],
            "image/png": "[encoded data removed]"
          },
          "metadata": {
            "needs_background": "light"
          }
        }
      ],
      "source": [
        "from matplotlib import pyplot\n",
        "\n",
        "#Función Lineal.\n",
        "def f(x):\n",
        "    return 4*x-7\n",
        "#En esta variable se genera una lista con valores del -10 al 10.\n",
        "#Todos estos valores serán los que tomara x.\n",
        "x = range(-10, 10)\n",
        "\n",
        "#Con el método plot especificamos que función graficaremos.\n",
        "#El primer argumento es la variable con los valores de x.\n",
        "#El segundo argumento le pasamos todos estos valares a la función con ayuda de un bucle.\n",
        "pyplot.plot(x, [f(i) for i in x])\n",
        "\n",
        "#Establecemos el color de los ejes.\n",
        "pyplot.axhline(0, color=\"black\")\n",
        "pyplot.axvline(0, color=\"black\")\n",
        "\n",
        "#Especificamos los limites de los ejes.\n",
        "pyplot.xlim(-11, 11)\n",
        "pyplot.ylim(-11, 11)\n",
        "\n",
        "#Guardamos el grafico en una imagen \"png\".\n",
        "pyplot.savefig(\"función_lineal.png\")\n",
        "\n",
        "# Mostramos el gráfico.\n",
        "pyplot.show()"
      ]
    }
  ]
}