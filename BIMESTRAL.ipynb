{
  "nbformat": 4,
  "nbformat_minor": 0,
  "metadata": {
    "colab": {
      "provenance": [],
      "authorship_tag": "ABX9TyN5ppKECgw6Rv56xilkwy35",
      "include_colab_link": true
    },
    "kernelspec": {
      "name": "python3",
      "display_name": "Python 3"
    },
    "language_info": {
      "name": "python"
    }
  },
  "cells": [
    {
      "cell_type": "markdown",
      "metadata": {
        "id": "view-in-github",
        "colab_type": "text"
      },
      "source": [
        "<a href=\"https://colab.research.google.com/github/Kevinsolanoxd/BIMESTRAL/blob/main/BIMESTRAL.ipynb\" target=\"_parent\"><img src=\"https://colab.research.google.com/assets/colab-badge.svg\" alt=\"Open In Colab\"/></a>"
      ]
    },
    {
      "cell_type": "markdown",
      "source": [
        "# BIMESTRAL\n",
        "\n",
        "## Lineal"
      ],
      "metadata": {
        "id": "2MJei03huRxT"
      }
    },
    {
      "cell_type": "code",
      "execution_count": 20,
      "metadata": {
        "colab": {
          "base_uri": "https://localhost:8080/",
          "height": 265
        },
        "id": "UMJJlK87tm-L",
        "outputId": "7c3d4ae4-70ed-45d2-ef0b-1653d80d5b43"
      },
      "outputs": [
        {
          "output_type": "display_data",
          "data": {
            "text/plain": [
              "<Figure size 432x288 with 1 Axes>"
            ],
            "image/png": "[encoded data removed]"
          },
          "metadata": {
            "needs_background": "light"
          }
        }
      ],
      "source": [
        "from matplotlib import pyplot\n",
        "\n",
        "#Función Lineal.\n",
        "def f(x):\n",
        "    return 4*x-7\n",
        "#En esta variable se genera una lista con valores del -10 al 10.\n",
        "#Todos estos valores serán los que tomara x.\n",
        "x = range(-10, 10)\n",
        "\n",
        "#Con el método plot especificamos que función graficaremos.\n",
        "#El primer argumento es la variable con los valores de x.\n",
        "#El segundo argumento le pasamos todos estos valares a la función con ayuda de un bucle.\n",
        "pyplot.plot(x, [f(i) for i in x])\n",
        "\n",
        "#Establecemos el color de los ejes.\n",
        "pyplot.axhline(0, color=\"black\")\n",
        "pyplot.axvline(0, color=\"black\")\n",
        "\n",
        "#Especificamos los limites de los ejes.\n",
        "pyplot.xlim(-11, 11)\n",
        "pyplot.ylim(-11, 11)\n",
        "\n",
        "#Guardamos el grafico en una imagen \"png\".\n",
        "pyplot.savefig(\"función_lineal.png\")\n",
        "\n",
        "# Mostramos el gráfico.\n",
        "pyplot.show()"
      ]
    },
    {
      "cell_type": "markdown",
      "source": [
        "##Cuadratica "
      ],
      "metadata": {
        "id": "nqdv3o3jJMiq"
      }
    },
    {
      "cell_type": "code",
      "source": [
        "  \n",
        "import math as m\n",
        "import numpy as np\n",
        "from matplotlib import pyplot\n",
        "\n",
        "a=float(input(\"ingrese el valor de (a):\\n\"))\n",
        "b=float(input(\"ingrese el valor de (b):\\n\"))\n",
        "c=float(input(\"ingrese el valor de (c):\\n\"))\n",
        "\n",
        "disc=(b**2)-(4*a*c)\n",
        "raiz=(disc)**(0.5)\n",
        "\n",
        "if(disc>0):\n",
        "    x1=((-b)+raiz)/(2*a)\n",
        "    x2=((-b)-raiz)/(2*a)\n",
        "    print(\"x1= \",x1)\n",
        "    print(\"x2= \",x2)\n",
        "\n",
        "elif(disc==0):\n",
        "    x1=((-b)+raiz)/(2*a)\n",
        "    x2=((-b)-raiz)/(2*a)\n",
        "    print(\"x1= \",x1)\n",
        "    print(\"x2= \",x2)\n",
        "else:\n",
        "    print(\"Solucion imaginaria\")\n",
        "\n",
        "def f(x):\n",
        "    return a*(x**2)+b*x+c\n",
        "\n",
        "x = np.linspace(-100,50+np.pi,100)\n",
        "\n",
        "pyplot.plot(x,[f(i)for i in x])\n",
        "\n",
        "pyplot.axhline(0, color= \"black\")\n",
        "pyplot.axvline(0, color= \"black\")\n",
        "\n",
        "\n",
        "pyplot.savefig(\"output.png\")\n",
        "pyplot.show()\n"
      ],
      "metadata": {
        "colab": {
          "base_uri": "https://localhost:8080/",
          "height": 387
        },
        "id": "z2KwmQAiJTD8",
        "outputId": "e691d83d-0563-4915-e1cd-0e1d961c7f98"
      },
      "execution_count": 14,
      "outputs": [
        {
          "output_type": "stream",
          "name": "stdout",
          "text": [
            "ingrese el valor de (a):\n",
            "1\n",
            "ingrese el valor de (b):\n",
            "2\n",
            "ingrese el valor de (c):\n",
            "3\n",
            "Solucion imaginaria\n"
          ]
        },
        {
          "output_type": "display_data",
          "data": {
            "text/plain": [
              "<Figure size 432x288 with 1 Axes>"
            ],
            "image/png": "[encoded data removed]"
          },
          "metadata": {
            "needs_background": "light"
          }
        }
      ]
    },
    {
      "cell_type": "markdown",
      "source": [
        "## Cubica"
      ],
      "metadata": {
        "id": "aQBmX0QWKCDQ"
      }
    },
    {
      "cell_type": "code",
      "source": [
        "  \n",
        "import math as m\n",
        "import numpy as np\n",
        "from matplotlib import pyplot\n",
        "\n",
        "a=float(input(\"ingrese el valor de (a):\\n\"))\n",
        "b=float(input(\"ingrese el valor de (b):\\n\"))\n",
        "c=float(input(\"ingrese el valor de (c):\\n\"))\n",
        "\n",
        "disc=(b**2)-(4*a*c)\n",
        "raiz=(disc)**(0.5)\n",
        "\n",
        "if(disc>0):\n",
        "    x1=((-b)+raiz)/(2*a)\n",
        "    x2=((-b)-raiz)/(2*a)\n",
        "    print(\"x1= \",x1)\n",
        "    print(\"x2= \",x2)\n",
        "\n",
        "elif(disc==0):\n",
        "    x1=((-b)+raiz)/(2*a)\n",
        "    x2=((-b)-raiz)/(2*a)\n",
        "    print(\"x1= \",x1)\n",
        "    print(\"x2= \",x2)\n",
        "else:\n",
        "    print(\"Solucion imaginaria\")\n",
        "def f(x):\n",
        "    return a*(x**3)+b**2+c*x + b\n",
        "    x = np.linspace(-100,50+np.pi,100)\n",
        "\n",
        "pyplot.plot(x,[f(i)for i in x])\n",
        "\n",
        "pyplot.axhline(0, color= \"black\")\n",
        "pyplot.axvline(0, color= \"black\")\n",
        "\n",
        "\n",
        "pyplot.savefig(\"output.png\")\n",
        "pyplot.show()\n"
      ],
      "metadata": {
        "colab": {
          "base_uri": "https://localhost:8080/",
          "height": 387
        },
        "id": "OgV-jciCMALw",
        "outputId": "8dee8b70-7525-4cb9-9385-4a348a65bd27"
      },
      "execution_count": 27,
      "outputs": [
        {
          "output_type": "stream",
          "name": "stdout",
          "text": [
            "ingrese el valor de (a):\n",
            "5\n",
            "ingrese el valor de (b):\n",
            "5\n",
            "ingrese el valor de (c):\n",
            "5\n",
            "Solucion imaginaria\n"
          ]
        },
        {
          "output_type": "display_data",
          "data": {
            "text/plain": [
              "<Figure size 432x288 with 1 Axes>"
            ],
            "image/png": "[encoded data removed]"
          },
          "metadata": {
            "needs_background": "light"
          }
        }
      ]
    },
    {
      "cell_type": "markdown",
      "source": [
        "##Logarítmica"
      ],
      "metadata": {
        "id": "7wNzfK7YL6tl"
      }
    },
    {
      "cell_type": "code",
      "source": [
        "import matplotlib.pyplot as plt\n",
        "import numpy as np\n",
        "\n",
        "x = np.array([5, 10, 15, 20, 25])\n",
        "y = np.array([3, 6, 9, 12, 15 ])\n",
        "\n",
        "log_x = np.log(x)\n",
        "log_y = np.log(y)\n",
        "\n",
        "coefficients = np.polyfit(log_x, y, 1)\n",
        "print(coefficients)\n",
        "\n",
        "c = 7.26 * log_x - 9.64\n",
        "plt.plot(log_x, y, \"o\")\n",
        "plt.plot(log_x, c)\n"
      ],
      "metadata": {
        "colab": {
          "base_uri": "https://localhost:8080/",
          "height": 300
        },
        "id": "KzsKUFJ0KRm_",
        "outputId": "b28b1f7c-f0aa-4638-99a2-096b201c92b9"
      },
      "execution_count": 25,
      "outputs": [
        {
          "output_type": "stream",
          "name": "stdout",
          "text": [
            "[ 7.2647162  -9.64806344]\n"
          ]
        },
        {
          "output_type": "execute_result",
          "data": {
            "text/plain": [
              "[<matplotlib.lines.Line2D at 0x7fbc23e99110>]"
            ]
          },
          "metadata": {},
          "execution_count": 25
        },
        {
          "output_type": "display_data",
          "data": {
            "text/plain": [
              "<Figure size 432x288 with 1 Axes>"
            ],
            "image/png": "[encoded data removed]"
          },
          "metadata": {
            "needs_background": "light"
          }
        }
      ]
    },
    {
      "cell_type": "markdown",
      "source": [
        "##Exponencial"
      ],
      "metadata": {
        "id": "PPGwDY0xME8A"
      }
    },
    {
      "cell_type": "code",
      "source": [
        "import os, math\n",
        "import matplotlib.pyplot as plt\n",
        "\n",
        "ex = 0\n",
        "factorial = 0\n",
        "x = float (input ('Ingresa el valor de x: '))\n",
        "y = int (input ('Ingresa el valor de y: '))\n",
        "for i in range (1, y + 1):\n",
        "    print ('PROCESO ' + repr (i))\n",
        "    if i==1:\n",
        "        ex=1\n",
        "        factorial=1\n",
        "    factorial=factorial*i\n",
        "    ex=ex+math.pow(x,i)/factorial\n",
        " \n",
        "\n",
        "plt.plot(x, y)"
      ],
      "metadata": {
        "colab": {
          "base_uri": "https://localhost:8080/",
          "height": 404
        },
        "id": "GUteLjUVOd3d",
        "outputId": "9ec2f9e2-244e-43f8-cdff-12ffd538854d"
      },
      "execution_count": 50,
      "outputs": [
        {
          "output_type": "stream",
          "name": "stdout",
          "text": [
            "Ingresa el valor de x: 5\n",
            "Ingresa el valor de y: 5\n",
            "PROCESO 1\n",
            "PROCESO 2\n",
            "PROCESO 3\n",
            "PROCESO 4\n",
            "PROCESO 5\n"
          ]
        },
        {
          "output_type": "execute_result",
          "data": {
            "text/plain": [
              "[<matplotlib.lines.Line2D at 0x7fbc2388a1d0>]"
            ]
          },
          "metadata": {},
          "execution_count": 50
        },
        {
          "output_type": "display_data",
          "data": {
            "text/plain": [
              "<Figure size 432x288 with 1 Axes>"
            ],
            "image/png": "[encoded data removed]"
          },
          "metadata": {
            "needs_background": "light"
          }
        }
      ]
    },
    {
      "cell_type": "markdown",
      "source": [
        "\n",
        "## Trigonometricas \n",
        "\n"
      ],
      "metadata": {
        "id": "u1MTNXo-OeaM"
      }
    },
    {
      "cell_type": "code",
      "source": [
        "from matplotlib.pyplot import plot , show, xlim,ylim,xticks\n",
        "# Grafica No. 6\n",
        "from numpy import linspace,pi,sin,cos\n",
        "\n",
        "x= linspace(-pi,pi,256)\n",
        "y= sin(x)\n",
        "z= cos(x)\n",
        "\n",
        "plot (x,y, label='seno')\n",
        "plot (x,z, label='coseno')\n",
        "ylim(-2,2)\n",
        "xticks([-pi,-pi/2,0,pi/2,pi],[r'$-\\pi$',r'$-\\pi/2$', r'$0$', r'$\\pi/2$', r'$\\pi$'])\n",
        "show()"
      ],
      "metadata": {
        "colab": {
          "base_uri": "https://localhost:8080/",
          "height": 272
        },
        "id": "SLxZ0y9GOrIc",
        "outputId": "1f546d96-c9b9-4c46-dfee-dccceca1abd2"
      },
      "execution_count": 11,
      "outputs": [
        {
          "output_type": "display_data",
          "data": {
            "text/plain": [
              "<Figure size 432x288 with 1 Axes>"
            ],
            "image/png": "[encoded data removed]"
          },
          "metadata": {
            "needs_background": "light"
          }
        }
      ]
    },
    {
      "cell_type": "code",
      "source": [],
      "metadata": {
        "id": "j1icpy5ApTo9"
      },
      "execution_count": null,
      "outputs": []
    }
  ]
}